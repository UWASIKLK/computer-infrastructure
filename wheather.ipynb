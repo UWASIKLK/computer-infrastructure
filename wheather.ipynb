{
 "cells": [
  {
   "cell_type": "markdown",
   "metadata": {},
   "source": [
    "## Task 8: weather.ipynb"
   ]
  },
  {
   "cell_type": "markdown",
   "metadata": {},
   "source": [
    "> Create a notebook called weather.ipynb at the root of your repository. In this notebook, write a brief report explaining how you completed Tasks 1 to 7. Provide short descriptions of the commands used in each task and explain their role in completing the tasks."
   ]
  },
  {
   "cell_type": "markdown",
   "metadata": {},
   "source": [
    "### Task 1: Create Directory Structure"
   ]
  },
  {
   "cell_type": "markdown",
   "metadata": {},
   "source": [
    ">Using the command line, create a directory (that is, a folder) named _data_ at the root of your repository. Inside data, create two subdirectories: _timestamps_ and _weather_."
   ]
  },
  {
   "cell_type": "markdown",
   "metadata": {},
   "source": [
    "The **mkdir** command, which stands for “make directory” allows us to create new directories. <br>This command can create multiple directories at once as well as set the permissions for the directories.</br>"
   ]
  },
  {
   "cell_type": "markdown",
   "metadata": {},
   "source": [
    "<ins>The command syntax is as below:</ins>\n",
    "\n",
    "`mkdir [options] directory_name`\n",
    "\n",
    "The **[options]** part is optional, and it is used to express the behaviour/functionality of the command.\n",
    "<br>Simply replace directory_name with the name of the directory you want to create.</br>"
   ]
  },
  {
   "cell_type": "markdown",
   "metadata": {},
   "source": [
    "<ins>Options and their implementation</ins>"
   ]
  },
  {
   "cell_type": "markdown",
   "metadata": {},
   "source": [
    "* **--help**&emsp;&emsp;&emsp;&emsp;&emsp;&ensp;&ensp;this option can be used to get assistance on how to use the command and its various features.\n",
    "* **--version**&emsp;&emsp;&emsp;&emsp;&ensp;to find out the information about the version number, software version installed, and the licence use   this command.\n",
    "* **-v or -verbose**&emsp;&emsp;will display a message for each created directory.\n",
    "* **-p**&emsp;&emsp;&emsp;&emsp;&emsp;&emsp;&emsp;&ensp;parent directory and subdirectories (if they don’t exist) can be created with this option\n",
    "* **-m**&emsp;&emsp;&emsp;&emsp;&emsp;&emsp;&emsp;&ensp;will allow you to set the permissions for the directory you created.<br>\n",
    "&emsp;&emsp;&emsp;&emsp;&emsp;&emsp;&emsp;&emsp;&ensp;For example, 755 permission mode provides read, write, and execute permissions to the owner and read and execute permissions to others."
   ]
  },
  {
   "cell_type": "markdown",
   "metadata": {},
   "source": [
    "Creating 'data' directory using **mkdir** command."
   ]
  },
  {
   "cell_type": "markdown",
   "metadata": {},
   "source": [
    "![mkdir](./img/mkdir.png)"
   ]
  },
  {
   "cell_type": "markdown",
   "metadata": {},
   "source": [
    "### Task 2: Timestamps"
   ]
  },
  {
   "cell_type": "markdown",
   "metadata": {},
   "source": [
    ">Navigate to the _data/timestamps_ directory. Use the date command to output the current date and time, appending the output to a file named _now.txt_. Make sure to use the **>>** operator to append (not overwrite) the file. Repeat this step ten times, then use the more command to verify that _now.txt_ has the expected content."
   ]
  },
  {
   "cell_type": "markdown",
   "metadata": {},
   "source": [
    "I already created a parent directory _data_ but I need to create a child directory called _timestamps_. To do it I will use same **mkdir** command as before."
   ]
  },
  {
   "cell_type": "markdown",
   "metadata": {},
   "source": [
    "![timestamps](./img/timestamps.png)"
   ]
  },
  {
   "cell_type": "markdown",
   "metadata": {},
   "source": [
    "To be able to display current date and time I need to use command **date**. This command can format the output in different way and set date and time in the system. By default, the date command shows the date in the time and zone on which Linux operating system is configured. There are different formats how to display the date and time using the date command."
   ]
  },
  {
   "cell_type": "markdown",
   "metadata": {},
   "source": [
    "<ins>The most common formats are listed below:</ins>"
   ]
  },
  {
   "cell_type": "markdown",
   "metadata": {},
   "source": [
    "![date formats](<./img/date formats.png>)"
   ]
  },
  {
   "cell_type": "markdown",
   "metadata": {},
   "source": [
    "Reference:&ensp;[https://phoenixnap.com/kb/linux-date-command](https://phoenixnap.com/kb/linux-date-command)"
   ]
  },
  {
   "cell_type": "markdown",
   "metadata": {},
   "source": [
    "I used the format which is readable for humans as:  **date +”%Y/%m/%d %H:%M:%S”**.<br>\n",
    "The output is:"
   ]
  },
  {
   "cell_type": "markdown",
   "metadata": {},
   "source": [
    "![date format 1](<./img/date format1.png>)"
   ]
  },
  {
   "cell_type": "markdown",
   "metadata": {},
   "source": [
    "And another format which is much more common and better for computer to read, **date +”%Y%m%d _%H%M%S”**.<br>\n",
    "The output is: "
   ]
  },
  {
   "cell_type": "markdown",
   "metadata": {},
   "source": [
    "![date format 2](<./img/date format2.png>)"
   ]
  },
  {
   "cell_type": "markdown",
   "metadata": {},
   "source": [
    "To append the output of current date and time into file _now.txt_ I will use the following syntax:"
   ]
  },
  {
   "cell_type": "markdown",
   "metadata": {},
   "source": [
    "`date >> filename`"
   ]
  },
  {
   "cell_type": "markdown",
   "metadata": {},
   "source": [
    "The **>>** is redirect operator which will append output from the command **date** to the 'filename', where the ‘filename’ is the name of the file _now.txt_. If the file doesn’t exist, it will be created.<br><br>\n",
    "I repeated the data command with two different formats couple of times and append the output to the _now.txt_ file as seen below."
   ]
  },
  {
   "cell_type": "markdown",
   "metadata": {},
   "source": [
    "![redirect](./img/redirect.png)"
   ]
  },
  {
   "cell_type": "markdown",
   "metadata": {},
   "source": [
    "### Task 3: Formatting Timestamps"
   ]
  },
  {
   "cell_type": "markdown",
   "metadata": {},
   "source": [
    ">Run the date command again, but this time format the output using **YYYYmmdd_HHMMSS** (e.g., 20261114_130003 for 1:00:03 PM on November 14, 2026). Refer to the date man page (using man date) for more formatting options. (Press q to exit the man page). Append the formatted output to a file named _formatted.txt_."
   ]
  },
  {
   "cell_type": "markdown",
   "metadata": {},
   "source": [
    "This time I used the data format of **”%Y%m%d _%H%M%S”** and append the output to the file _formatted.txt_ in the _data/timestamps_."
   ]
  },
  {
   "cell_type": "markdown",
   "metadata": {},
   "source": [
    "![formatted 1](./img/formatted1.png)"
   ]
  },
  {
   "cell_type": "markdown",
   "metadata": {},
   "source": [
    "![formatted 2](./img/formatted2.png)"
   ]
  },
  {
   "cell_type": "markdown",
   "metadata": {},
   "source": [
    "### Task 4: Create Timestamped Files"
   ]
  },
  {
   "cell_type": "markdown",
   "metadata": {},
   "source": [
    ">Use the touch command to create an empty file with a name in the **YYYYmmdd_HHMMSS.txt** format. You can achieve this by embedding your **date** command in **backticks `** into the touch command. You should no longer use redirection (>>) in this step."
   ]
  },
  {
   "cell_type": "markdown",
   "metadata": {},
   "source": [
    "To name the file with a timestamp I have to use the **backticks** for the **date** command. Instead of inserting a timestamp into the file, a file with the name of the current date is created in the selected format."
   ]
  },
  {
   "cell_type": "markdown",
   "metadata": {},
   "source": [
    "![backstick](./img/backstick.png)"
   ]
  },
  {
   "cell_type": "markdown",
   "metadata": {},
   "source": [
    "I used the **ls -al** together with **more** command to confirm that the fine is empty. The file is zero size."
   ]
  },
  {
   "cell_type": "markdown",
   "metadata": {},
   "source": [
    "![empty file](./img/empty_file.png)"
   ]
  },
  {
   "cell_type": "markdown",
   "metadata": {},
   "source": [
    "### Task 5: Download Today's Weather Data"
   ]
  },
  {
   "cell_type": "markdown",
   "metadata": {},
   "source": [
    ">Change to the _data/weather_ directory. Download the latest weather data for the Athenry weather station from Met Eireann using wget. Use the **-O <filename>** option to save the file as _weather.json_. The data can be found at this URL:\n",
    "https://prodapi.metweb.ie/observations/athenry/today."
   ]
  },
  {
   "cell_type": "markdown",
   "metadata": {},
   "source": [
    "The **wget** command is non-interactive, which means that I can work in the background without interrupting current process. It is network downloader used to download files from server, and it supports HTTP, HTTPS and FTP. In case that there is a network problem and download fail, it will keep trying until the whole file is successfully downloaded."
   ]
  },
  {
   "cell_type": "markdown",
   "metadata": {},
   "source": [
    "<ins>Basic syntac is as below:</ins>\n",
    "\n",
    "`wget [option][URL]`"
   ]
  },
  {
   "cell_type": "markdown",
   "metadata": {},
   "source": [
    "Where the **[option]** are different options that modify the behaviour of the wget command. The **[URL]** is the address of the file or website which needs to be downloaded.<br>\n",
    "\n",
    "Examples of common options are listed below:"
   ]
  },
  {
   "cell_type": "markdown",
   "metadata": {},
   "source": [
    "![wget options](./img/wget%20options.png)"
   ]
  },
  {
   "cell_type": "markdown",
   "metadata": {},
   "source": [
    "Reference:&ensp;[https://www.baeldung.com/linux/wget-examples](https://www.baeldung.com/linux/wget-examples)"
   ]
  },
  {
   "cell_type": "markdown",
   "metadata": {},
   "source": [
    "I already created a parent directory _data_ but I need to create a child directory called _weather_. To do it I will use same **mkdir** command as before."
   ]
  },
  {
   "cell_type": "markdown",
   "metadata": {},
   "source": [
    "![weather](./img/weather.png)"
   ]
  },
  {
   "cell_type": "markdown",
   "metadata": {},
   "source": [
    "In this task I need to use **-O [filename]** option to save the file as _weather.json_."
   ]
  },
  {
   "cell_type": "markdown",
   "metadata": {},
   "source": [
    "![download weather](./img/download_weather.png)"
   ]
  },
  {
   "cell_type": "markdown",
   "metadata": {},
   "source": [
    "Reference:&ensp;[https://www.truehost.com/support/knowledge-base/wget-command-examples-to-download-files-in-linux/](https://www.truehost.com/support/knowledge-base/wget-command-examples-to-download-files-in-linux/)"
   ]
  },
  {
   "cell_type": "code",
   "execution_count": 2,
   "metadata": {},
   "outputs": [],
   "source": [
    "# Data frames.\n",
    "import pandas as pd"
   ]
  },
  {
   "cell_type": "markdown",
   "metadata": {},
   "source": [
    "## Collecting the Data"
   ]
  },
  {
   "cell_type": "markdown",
   "metadata": {},
   "source": [
    "The following code outputs the filename used to store the data file.\n",
    "```bash\n",
    "date +\"%Y%m%d_%H%M%S_athenry.json\n",
    "```\n",
    "The `%Y` is replaced by the four-digit year (e.g 2024)."
   ]
  },
  {
   "cell_type": "markdown",
   "metadata": {},
   "source": [
    "## Analysing the Data"
   ]
  },
  {
   "cell_type": "code",
   "execution_count": 3,
   "metadata": {},
   "outputs": [],
   "source": [
    "# Read the data.\n",
    "df = pd.read_json('data/weather/20241031_080416_athenry.json')"
   ]
  },
  {
   "cell_type": "code",
   "execution_count": null,
   "metadata": {},
   "outputs": [
    {
     "data": {
      "text/html": [
       "<div>\n",
       "<style scoped>\n",
       "    .dataframe tbody tr th:only-of-type {\n",
       "        vertical-align: middle;\n",
       "    }\n",
       "\n",
       "    .dataframe tbody tr th {\n",
       "        vertical-align: top;\n",
       "    }\n",
       "\n",
       "    .dataframe thead th {\n",
       "        text-align: right;\n",
       "    }\n",
       "</style>\n",
       "<table border=\"1\" class=\"dataframe\">\n",
       "  <thead>\n",
       "    <tr style=\"text-align: right;\">\n",
       "      <th></th>\n",
       "      <th>name</th>\n",
       "      <th>temperature</th>\n",
       "      <th>symbol</th>\n",
       "      <th>weatherDescription</th>\n",
       "      <th>text</th>\n",
       "      <th>windSpeed</th>\n",
       "      <th>windGust</th>\n",
       "      <th>cardinalWindDirection</th>\n",
       "      <th>windDirection</th>\n",
       "      <th>humidity</th>\n",
       "      <th>rainfall</th>\n",
       "      <th>pressure</th>\n",
       "      <th>dayName</th>\n",
       "      <th>date</th>\n",
       "      <th>reportTime</th>\n",
       "    </tr>\n",
       "  </thead>\n",
       "  <tbody>\n",
       "    <tr>\n",
       "      <th>0</th>\n",
       "      <td>Athenry</td>\n",
       "      <td>11</td>\n",
       "      <td>15n</td>\n",
       "      <td>Fog / Mist</td>\n",
       "      <td>\"Mist\"</td>\n",
       "      <td>9</td>\n",
       "      <td>-</td>\n",
       "      <td>SW</td>\n",
       "      <td>225</td>\n",
       "      <td>97</td>\n",
       "      <td>0.0</td>\n",
       "      <td>1028</td>\n",
       "      <td>Thursday</td>\n",
       "      <td>2024-10-31</td>\n",
       "      <td>00:00</td>\n",
       "    </tr>\n",
       "    <tr>\n",
       "      <th>1</th>\n",
       "      <td>Athenry</td>\n",
       "      <td>11</td>\n",
       "      <td>15n</td>\n",
       "      <td>Fog / Mist</td>\n",
       "      <td>\"Mist\"</td>\n",
       "      <td>9</td>\n",
       "      <td>-</td>\n",
       "      <td>S</td>\n",
       "      <td>180</td>\n",
       "      <td>98</td>\n",
       "      <td>0.1</td>\n",
       "      <td>1028</td>\n",
       "      <td>Thursday</td>\n",
       "      <td>2024-10-31</td>\n",
       "      <td>01:00</td>\n",
       "    </tr>\n",
       "    <tr>\n",
       "      <th>2</th>\n",
       "      <td>Athenry</td>\n",
       "      <td>11</td>\n",
       "      <td>15n</td>\n",
       "      <td>Fog / Mist</td>\n",
       "      <td>\"Mist\"</td>\n",
       "      <td>9</td>\n",
       "      <td>-</td>\n",
       "      <td>S</td>\n",
       "      <td>180</td>\n",
       "      <td>97</td>\n",
       "      <td>0.0</td>\n",
       "      <td>1028</td>\n",
       "      <td>Thursday</td>\n",
       "      <td>2024-10-31</td>\n",
       "      <td>02:00</td>\n",
       "    </tr>\n",
       "    <tr>\n",
       "      <th>3</th>\n",
       "      <td>Athenry</td>\n",
       "      <td>10</td>\n",
       "      <td>15n</td>\n",
       "      <td>Fog / Mist</td>\n",
       "      <td>\"Mist\"</td>\n",
       "      <td>11</td>\n",
       "      <td>-</td>\n",
       "      <td>S</td>\n",
       "      <td>180</td>\n",
       "      <td>97</td>\n",
       "      <td>0.0</td>\n",
       "      <td>1027</td>\n",
       "      <td>Thursday</td>\n",
       "      <td>2024-10-31</td>\n",
       "      <td>03:00</td>\n",
       "    </tr>\n",
       "    <tr>\n",
       "      <th>4</th>\n",
       "      <td>Athenry</td>\n",
       "      <td>10</td>\n",
       "      <td>15n</td>\n",
       "      <td>Fog / Mist</td>\n",
       "      <td>\"Mist\"</td>\n",
       "      <td>13</td>\n",
       "      <td>-</td>\n",
       "      <td>SW</td>\n",
       "      <td>225</td>\n",
       "      <td>98</td>\n",
       "      <td>0.1</td>\n",
       "      <td>1027</td>\n",
       "      <td>Thursday</td>\n",
       "      <td>2024-10-31</td>\n",
       "      <td>04:00</td>\n",
       "    </tr>\n",
       "  </tbody>\n",
       "</table>\n",
       "</div>"
      ],
      "text/plain": [
       "      name  temperature symbol weatherDescription    text  windSpeed windGust  \\\n",
       "0  Athenry           11    15n         Fog / Mist  \"Mist\"          9        -   \n",
       "1  Athenry           11    15n         Fog / Mist  \"Mist\"          9        -   \n",
       "2  Athenry           11    15n         Fog / Mist  \"Mist\"          9        -   \n",
       "3  Athenry           10    15n         Fog / Mist  \"Mist\"         11        -   \n",
       "4  Athenry           10    15n         Fog / Mist  \"Mist\"         13        -   \n",
       "\n",
       "  cardinalWindDirection  windDirection  humidity  rainfall  pressure  \\\n",
       "0                    SW            225        97       0.0      1028   \n",
       "1                     S            180        98       0.1      1028   \n",
       "2                     S            180        97       0.0      1028   \n",
       "3                     S            180        97       0.0      1027   \n",
       "4                    SW            225        98       0.1      1027   \n",
       "\n",
       "    dayName       date reportTime  \n",
       "0  Thursday 2024-10-31      00:00  \n",
       "1  Thursday 2024-10-31      01:00  \n",
       "2  Thursday 2024-10-31      02:00  \n",
       "3  Thursday 2024-10-31      03:00  \n",
       "4  Thursday 2024-10-31      04:00  "
      ]
     },
     "execution_count": 4,
     "metadata": {},
     "output_type": "execute_result"
    }
   ],
   "source": [
    "# Show the data\n",
    "df.head()"
   ]
  },
  {
   "cell_type": "code",
   "execution_count": 5,
   "metadata": {},
   "outputs": [
    {
     "data": {
      "text/html": [
       "<div>\n",
       "<style scoped>\n",
       "    .dataframe tbody tr th:only-of-type {\n",
       "        vertical-align: middle;\n",
       "    }\n",
       "\n",
       "    .dataframe tbody tr th {\n",
       "        vertical-align: top;\n",
       "    }\n",
       "\n",
       "    .dataframe thead th {\n",
       "        text-align: right;\n",
       "    }\n",
       "</style>\n",
       "<table border=\"1\" class=\"dataframe\">\n",
       "  <thead>\n",
       "    <tr style=\"text-align: right;\">\n",
       "      <th></th>\n",
       "      <th>temperature</th>\n",
       "      <th>windSpeed</th>\n",
       "      <th>windDirection</th>\n",
       "      <th>humidity</th>\n",
       "      <th>rainfall</th>\n",
       "      <th>pressure</th>\n",
       "      <th>date</th>\n",
       "    </tr>\n",
       "  </thead>\n",
       "  <tbody>\n",
       "    <tr>\n",
       "      <th>count</th>\n",
       "      <td>8.000000</td>\n",
       "      <td>8.000000</td>\n",
       "      <td>8.000000</td>\n",
       "      <td>8.000000</td>\n",
       "      <td>8.000000</td>\n",
       "      <td>8.000000</td>\n",
       "      <td>8</td>\n",
       "    </tr>\n",
       "    <tr>\n",
       "      <th>mean</th>\n",
       "      <td>10.375000</td>\n",
       "      <td>10.250000</td>\n",
       "      <td>208.125000</td>\n",
       "      <td>97.500000</td>\n",
       "      <td>0.087500</td>\n",
       "      <td>1027.375000</td>\n",
       "      <td>2024-10-31 00:00:00</td>\n",
       "    </tr>\n",
       "    <tr>\n",
       "      <th>min</th>\n",
       "      <td>10.000000</td>\n",
       "      <td>9.000000</td>\n",
       "      <td>180.000000</td>\n",
       "      <td>97.000000</td>\n",
       "      <td>0.000000</td>\n",
       "      <td>1027.000000</td>\n",
       "      <td>2024-10-31 00:00:00</td>\n",
       "    </tr>\n",
       "    <tr>\n",
       "      <th>25%</th>\n",
       "      <td>10.000000</td>\n",
       "      <td>9.000000</td>\n",
       "      <td>180.000000</td>\n",
       "      <td>97.000000</td>\n",
       "      <td>0.000000</td>\n",
       "      <td>1027.000000</td>\n",
       "      <td>2024-10-31 00:00:00</td>\n",
       "    </tr>\n",
       "    <tr>\n",
       "      <th>50%</th>\n",
       "      <td>10.000000</td>\n",
       "      <td>10.000000</td>\n",
       "      <td>225.000000</td>\n",
       "      <td>97.500000</td>\n",
       "      <td>0.100000</td>\n",
       "      <td>1027.000000</td>\n",
       "      <td>2024-10-31 00:00:00</td>\n",
       "    </tr>\n",
       "    <tr>\n",
       "      <th>75%</th>\n",
       "      <td>11.000000</td>\n",
       "      <td>11.000000</td>\n",
       "      <td>225.000000</td>\n",
       "      <td>98.000000</td>\n",
       "      <td>0.125000</td>\n",
       "      <td>1028.000000</td>\n",
       "      <td>2024-10-31 00:00:00</td>\n",
       "    </tr>\n",
       "    <tr>\n",
       "      <th>max</th>\n",
       "      <td>11.000000</td>\n",
       "      <td>13.000000</td>\n",
       "      <td>225.000000</td>\n",
       "      <td>98.000000</td>\n",
       "      <td>0.200000</td>\n",
       "      <td>1028.000000</td>\n",
       "      <td>2024-10-31 00:00:00</td>\n",
       "    </tr>\n",
       "    <tr>\n",
       "      <th>std</th>\n",
       "      <td>0.517549</td>\n",
       "      <td>1.488048</td>\n",
       "      <td>23.289713</td>\n",
       "      <td>0.534522</td>\n",
       "      <td>0.083452</td>\n",
       "      <td>0.517549</td>\n",
       "      <td>NaN</td>\n",
       "    </tr>\n",
       "  </tbody>\n",
       "</table>\n",
       "</div>"
      ],
      "text/plain": [
       "       temperature  windSpeed  windDirection   humidity  rainfall  \\\n",
       "count     8.000000   8.000000       8.000000   8.000000  8.000000   \n",
       "mean     10.375000  10.250000     208.125000  97.500000  0.087500   \n",
       "min      10.000000   9.000000     180.000000  97.000000  0.000000   \n",
       "25%      10.000000   9.000000     180.000000  97.000000  0.000000   \n",
       "50%      10.000000  10.000000     225.000000  97.500000  0.100000   \n",
       "75%      11.000000  11.000000     225.000000  98.000000  0.125000   \n",
       "max      11.000000  13.000000     225.000000  98.000000  0.200000   \n",
       "std       0.517549   1.488048      23.289713   0.534522  0.083452   \n",
       "\n",
       "          pressure                 date  \n",
       "count     8.000000                    8  \n",
       "mean   1027.375000  2024-10-31 00:00:00  \n",
       "min    1027.000000  2024-10-31 00:00:00  \n",
       "25%    1027.000000  2024-10-31 00:00:00  \n",
       "50%    1027.000000  2024-10-31 00:00:00  \n",
       "75%    1028.000000  2024-10-31 00:00:00  \n",
       "max    1028.000000  2024-10-31 00:00:00  \n",
       "std       0.517549                  NaN  "
      ]
     },
     "execution_count": 5,
     "metadata": {},
     "output_type": "execute_result"
    }
   ],
   "source": [
    "df.describe()"
   ]
  },
  {
   "cell_type": "markdown",
   "metadata": {},
   "source": [
    "## End"
   ]
  }
 ],
 "metadata": {
  "kernelspec": {
   "display_name": "Python 3",
   "language": "python",
   "name": "python3"
  },
  "language_info": {
   "codemirror_mode": {
    "name": "ipython",
    "version": 3
   },
   "file_extension": ".py",
   "mimetype": "text/x-python",
   "name": "python",
   "nbconvert_exporter": "python",
   "pygments_lexer": "ipython3",
   "version": "3.12.1"
  }
 },
 "nbformat": 4,
 "nbformat_minor": 2
}
