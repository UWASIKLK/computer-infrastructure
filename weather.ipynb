{
 "cells": [
  {
   "cell_type": "markdown",
   "metadata": {},
   "source": [
    "## Task 8: weather.ipynb"
   ]
  },
  {
   "cell_type": "markdown",
   "metadata": {},
   "source": [
    "> Create a notebook called weather.ipynb at the root of your repository. In this notebook, write a brief report explaining how you completed Tasks 1 to 7. Provide short descriptions of the commands used in each task and explain their role in completing the tasks."
   ]
  },
  {
   "cell_type": "markdown",
   "metadata": {},
   "source": [
    "### Task 1: Create Directory Structure"
   ]
  },
  {
   "cell_type": "markdown",
   "metadata": {},
   "source": [
    ">Using the command line, create a directory (that is, a folder) named _data_ at the root of your repository. Inside data, create two subdirectories: _timestamps_ and _weather_."
   ]
  },
  {
   "cell_type": "markdown",
   "metadata": {},
   "source": [
    "The **mkdir** command, which stands for “make directory” allows us to create new directories. <br>This command can create multiple directories at once as well as set the permissions for the directories.</br>"
   ]
  },
  {
   "cell_type": "markdown",
   "metadata": {},
   "source": [
    "<ins>The command syntax is as below:</ins>\n",
    "\n",
    "`mkdir [options] directory_name`\n",
    "\n",
    "The **[options]** part is optional, and it is used to express the behaviour/functionality of the command.\n",
    "<br>Simply replace directory_name with the name of the directory you want to create.</br>"
   ]
  },
  {
   "cell_type": "markdown",
   "metadata": {},
   "source": [
    "<ins>Options and their implementation</ins>"
   ]
  },
  {
   "cell_type": "markdown",
   "metadata": {},
   "source": [
    "* **--help**&emsp;&emsp;&emsp;&emsp;&emsp;&ensp;&ensp;this option can be used to get assistance on how to use the command and its various features.\n",
    "* **--version**&emsp;&emsp;&emsp;&emsp;&ensp;to find out the information about the version number, software version installed, and the licence use   this command.\n",
    "* **-v or -verbose**&emsp;&emsp;will display a message for each created directory.\n",
    "* **-p**&emsp;&emsp;&emsp;&emsp;&emsp;&emsp;&emsp;&ensp;parent directory and subdirectories (if they don’t exist) can be created with this option\n",
    "* **-m**&emsp;&emsp;&emsp;&emsp;&emsp;&emsp;&emsp;&ensp;will allow you to set the permissions for the directory you created.<br>\n",
    "&emsp;&emsp;&emsp;&emsp;&emsp;&emsp;&emsp;&emsp;&ensp;For example, 755 permission mode provides read, write, and execute permissions to the owner and read and execute permissions to others."
   ]
  },
  {
   "cell_type": "markdown",
   "metadata": {},
   "source": [
    "Creating 'data' directory using **mkdir** command."
   ]
  },
  {
   "cell_type": "markdown",
   "metadata": {},
   "source": [
    "![mkdir](./img/mkdir.png)"
   ]
  },
  {
   "cell_type": "markdown",
   "metadata": {},
   "source": [
    "### Task 2: Timestamps"
   ]
  },
  {
   "cell_type": "markdown",
   "metadata": {},
   "source": [
    ">Navigate to the _data/timestamps_ directory. Use the date command to output the current date and time, appending the output to a file named _now.txt_. Make sure to use the **>>** operator to append (not overwrite) the file. Repeat this step ten times, then use the more command to verify that _now.txt_ has the expected content."
   ]
  },
  {
   "cell_type": "markdown",
   "metadata": {},
   "source": [
    "I already created a parent directory _data_ but I need to create a child directory called _timestamps_. To do it I will use same **mkdir** command as before."
   ]
  },
  {
   "cell_type": "markdown",
   "metadata": {},
   "source": [
    "![timestamps](./img/timestamps.png)"
   ]
  },
  {
   "cell_type": "markdown",
   "metadata": {},
   "source": [
    "To be able to display current date and time I need to use command **date**. This command can format the output in different way and set date and time in the system. By default, the date command shows the date in the time and zone on which Linux operating system is configured. There are different formats how to display the date and time using the date command."
   ]
  },
  {
   "cell_type": "markdown",
   "metadata": {},
   "source": [
    "The most common formats are listed below:"
   ]
  },
  {
   "cell_type": "markdown",
   "metadata": {},
   "source": [
    "![date formats](<./img/date formats.png>)"
   ]
  },
  {
   "cell_type": "markdown",
   "metadata": {},
   "source": [
    "Reference:&ensp;[https://phoenixnap.com/kb/linux-date-command](https://phoenixnap.com/kb/linux-date-command)"
   ]
  },
  {
   "cell_type": "markdown",
   "metadata": {},
   "source": [
    "I used the format which is readable for humans as:  **date +”%Y/%m/%d %H:%M:%S”**.<br>\n",
    "The output is:"
   ]
  },
  {
   "cell_type": "markdown",
   "metadata": {},
   "source": [
    "![date format 1](<./img/date format1.png>)"
   ]
  },
  {
   "cell_type": "markdown",
   "metadata": {},
   "source": [
    "And another format which is much more common and better for computer to read, **date +”%Y%m%d _%H%M%S”**.<br>\n",
    "The output is: "
   ]
  },
  {
   "cell_type": "markdown",
   "metadata": {},
   "source": [
    "![date format 2](<./img/date format2.png>)"
   ]
  },
  {
   "cell_type": "markdown",
   "metadata": {},
   "source": [
    "To append the output of current date and time into file _now.txt_ I will use the following syntax:"
   ]
  },
  {
   "cell_type": "markdown",
   "metadata": {},
   "source": [
    "<span style=\"color:blue'; font-family: Aptos; font-size: 16;\"> **date >> filename**</span>"
   ]
  },
  {
   "cell_type": "markdown",
   "metadata": {},
   "source": [
    "The **>>** is redirect operator which will append output from the command **date** to the 'filename', where the ‘filename’ is the name of the file _now.txt_. If the file doesn’t exist, it will be created.<br><br>\n",
    "I repeated the data command with two different formats couple of times and append the output to the _now.txt_ file as seen below."
   ]
  },
  {
   "cell_type": "markdown",
   "metadata": {},
   "source": [
    "![redirect](./img/redirect.png)"
   ]
  },
  {
   "cell_type": "markdown",
   "metadata": {},
   "source": [
    "### Task 3: Formatting Timestamps"
   ]
  },
  {
   "cell_type": "markdown",
   "metadata": {},
   "source": [
    ">Run the date command again, but this time format the output using **YYYYmmdd_HHMMSS** (e.g., 20261114_130003 for 1:00:03 PM on November 14, 2026). Refer to the date man page (using man date) for more formatting options. (Press q to exit the man page). Append the formatted output to a file named _formatted.txt_."
   ]
  },
  {
   "cell_type": "markdown",
   "metadata": {},
   "source": [
    "This time I used the data format of **”%Y%m%d _%H%M%S”** and append the output to the file _formatted.txt_ in the _data/timestamps_."
   ]
  },
  {
   "cell_type": "markdown",
   "metadata": {},
   "source": [
    "![formatted 1](./img/formatted1.png)"
   ]
  },
  {
   "cell_type": "markdown",
   "metadata": {},
   "source": [
    "![formatted 2](./img/formatted2.png)"
   ]
  },
  {
   "cell_type": "markdown",
   "metadata": {},
   "source": [
    "### Task 4: Create Timestamped Files"
   ]
  },
  {
   "cell_type": "markdown",
   "metadata": {},
   "source": [
    ">Use the touch command to create an empty file with a name in the **YYYYmmdd_HHMMSS.txt** format. You can achieve this by embedding your **date** command in **backticks `** into the touch command. You should no longer use redirection (>>) in this step."
   ]
  },
  {
   "cell_type": "markdown",
   "metadata": {},
   "source": [
    "To name the file with a timestamp I have to use the **backticks** for the **date** command. Instead of inserting a timestamp into the file, a file with the name of the current date is created in the selected format."
   ]
  },
  {
   "cell_type": "markdown",
   "metadata": {},
   "source": [
    "![backstick](./img/backstick.png)"
   ]
  },
  {
   "cell_type": "markdown",
   "metadata": {},
   "source": [
    "I used the **ls -al** together with **more** command to confirm that the fine is empty. The file is zero size."
   ]
  },
  {
   "cell_type": "markdown",
   "metadata": {},
   "source": [
    "![empty file](./img/empty_file.png)"
   ]
  },
  {
   "cell_type": "markdown",
   "metadata": {},
   "source": [
    "### Task 5: Download Today's Weather Data"
   ]
  },
  {
   "cell_type": "markdown",
   "metadata": {},
   "source": [
    ">Change to the _data/weather_ directory. Download the latest weather data for the Athenry weather station from Met Eireann using wget. Use the **-O <filename>** option to save the file as _weather.json_. The data can be found at this URL:\n",
    "https://prodapi.metweb.ie/observations/athenry/today."
   ]
  },
  {
   "cell_type": "markdown",
   "metadata": {},
   "source": [
    "The **wget** command is non-interactive, which means that I can work in the background without interrupting current process. It is network downloader used to download files from server, and it supports HTTP, HTTPS and FTP. In case that there is a network problem and download fail, it will keep trying until the whole file is successfully downloaded."
   ]
  },
  {
   "cell_type": "markdown",
   "metadata": {},
   "source": [
    "Basic syntac is as below:<br>\n",
    "\n",
    "<span style=\"color:blue'; font-family: Aptos; font-size: 16; text-align: center\"> **wget [option][URL]**</span>"
   ]
  },
  {
   "cell_type": "markdown",
   "metadata": {},
   "source": [
    "Where the **[option]** are different options that modify the behaviour of the wget command. The **[URL]** is the address of the file or website which needs to be downloaded.<br>\n",
    "\n",
    "Examples of common options are listed below:"
   ]
  },
  {
   "cell_type": "markdown",
   "metadata": {},
   "source": [
    "![wget options](./img/wget%20options.png)"
   ]
  },
  {
   "cell_type": "markdown",
   "metadata": {},
   "source": [
    "Reference:&ensp;[https://www.baeldung.com/linux/wget-examples](https://www.baeldung.com/linux/wget-examples)"
   ]
  },
  {
   "cell_type": "markdown",
   "metadata": {},
   "source": [
    "I already created a parent directory _data_ but I need to create a child directory called _weather_. To do it I will use same **mkdir** command as before."
   ]
  },
  {
   "cell_type": "markdown",
   "metadata": {},
   "source": [
    "![weather](./img/weather.png)"
   ]
  },
  {
   "cell_type": "markdown",
   "metadata": {},
   "source": [
    "In this task I need to use **-O [filename]** option to save the file as _weather.json_."
   ]
  },
  {
   "cell_type": "markdown",
   "metadata": {},
   "source": [
    "![download weather](./img/download_weather.png)"
   ]
  },
  {
   "cell_type": "markdown",
   "metadata": {},
   "source": [
    "Reference:&ensp;[https://www.truehost.com/support/knowledge-base/wget-command-examples-to-download-files-in-linux/](https://www.truehost.com/support/knowledge-base/wget-command-examples-to-download-files-in-linux/)"
   ]
  },
  {
   "cell_type": "markdown",
   "metadata": {},
   "source": [
    "### Task 6: Timestamp the Data"
   ]
  },
  {
   "cell_type": "markdown",
   "metadata": {},
   "source": [
    ">Modify the command from Task 5 to save the downloaded file with a timestamped name in the format **YYYYmmdd_HHMMSS.json**.\n",
    "To name the file with a timestamps I have to use the **backticks** to modify the command **wget**, similar to Task 4."
   ]
  },
  {
   "cell_type": "markdown",
   "metadata": {},
   "source": [
    "![wget o](./img/wget%20-o.png)"
   ]
  },
  {
   "cell_type": "markdown",
   "metadata": {},
   "source": [
    "### Task 7: Write the Script"
   ]
  },
  {
   "cell_type": "markdown",
   "metadata": {},
   "source": [
    "> Write a bash script called weather.sh in the root of your repository. This script should automate the process from Task 6, saving the weather data to the data/weather directory. Make the script executable and test it by running it."
   ]
  },
  {
   "cell_type": "markdown",
   "metadata": {},
   "source": [
    "Bash is just like a simple text file/script consisting of number of commands that you can normally run on the command line, but instead you can put them into a single script. A bash script can be written to do just about anything, it might contain elements like loops, functions, creating backups, setting variables, opening applications, navigating to specific directories, creating files, and much more.\n",
    "\n",
    "Bash scripting is a great way to automate different types of tasks on your system. Developers can avoid repetitive tasks by using bash scripting.\n",
    "\n",
    "Every bash scrip should begin with the **# !/bin/bash** on the first line.\n",
    "\n",
    "The bash script needs to be made executable."
   ]
  },
  {
   "cell_type": "markdown",
   "metadata": {},
   "source": [
    "Bash scripting is a great way to automate different types of tasks on your system. Developers can avoid repetitive tasks by using bash scripting."
   ]
  },
  {
   "cell_type": "markdown",
   "metadata": {},
   "source": [
    "![bash sript](./img/script.png)"
   ]
  },
  {
   "cell_type": "markdown",
   "metadata": {},
   "source": [
    "I created the file weather.sh and run it:"
   ]
  },
  {
   "cell_type": "markdown",
   "metadata": {},
   "source": [
    "![weather sh](./img/weather_sh.png)"
   ]
  },
  {
   "cell_type": "markdown",
   "metadata": {},
   "source": [
    "### Task 9: Pandas"
   ]
  },
  {
   "cell_type": "markdown",
   "metadata": {},
   "source": [
    "> In your weather.ipynb notebook, use the pandas function read_json() to load in any one of the weather data files you have downloaded with your script. \n",
    "Examine and summarize the data. Use the information provided data.gov.ie to write a short explanation of what the data set contains."
   ]
  },
  {
   "cell_type": "markdown",
   "metadata": {},
   "source": [
    "The \"Today's Weather Athenry\" resource from data.gov.ie provides hourly weather observations for the current day \n",
    "from the synoptic station in Athenry, County Galway. This data is updated hourly and includes basic \n",
    "meteorological measurements such as temperature, precipitation, wind, and other weather features."
   ]
  },
  {
   "cell_type": "markdown",
   "metadata": {},
   "source": [
    "#### Import necessary libraries"
   ]
  },
  {
   "cell_type": "code",
   "execution_count": 1,
   "metadata": {},
   "outputs": [],
   "source": [
    "import pandas as pd\n",
    "import matplotlib.pyplot as plt\n",
    "import matplotlib.dates as md\n",
    "import numpy as np"
   ]
  },
  {
   "cell_type": "markdown",
   "metadata": {},
   "source": [
    "### Collecting the Data"
   ]
  },
  {
   "cell_type": "markdown",
   "metadata": {},
   "source": [
    "The following code outputs the filename used to store the data file.\n",
    "```bash\n",
    "date +\"%Y%m%d_%H%M%S_athenry.json\n",
    "```\n",
    "The `%Y` is replaced by the four-digit year (e.g 2024)."
   ]
  },
  {
   "cell_type": "markdown",
   "metadata": {},
   "source": [
    "### Analysing the Data"
   ]
  },
  {
   "cell_type": "code",
   "execution_count": 2,
   "metadata": {},
   "outputs": [],
   "source": [
    "# Read the JSON file stored in the data/weather folder.\n",
    "weather = pd.read_json('data/weather/20241031_074538_athenry.json')"
   ]
  },
  {
   "cell_type": "code",
   "execution_count": 4,
   "metadata": {},
   "outputs": [
    {
     "name": "stdout",
     "output_type": "stream",
     "text": [
      "<class 'pandas.core.frame.DataFrame'>\n",
      "RangeIndex: 8 entries, 0 to 7\n",
      "Data columns (total 15 columns):\n",
      " #   Column                 Non-Null Count  Dtype         \n",
      "---  ------                 --------------  -----         \n",
      " 0   name                   8 non-null      object        \n",
      " 1   temperature            8 non-null      int64         \n",
      " 2   symbol                 8 non-null      object        \n",
      " 3   weatherDescription     8 non-null      object        \n",
      " 4   text                   8 non-null      object        \n",
      " 5   windSpeed              8 non-null      int64         \n",
      " 6   windGust               8 non-null      object        \n",
      " 7   cardinalWindDirection  8 non-null      object        \n",
      " 8   windDirection          8 non-null      int64         \n",
      " 9   humidity               8 non-null      int64         \n",
      " 10  rainfall               8 non-null      float64       \n",
      " 11  pressure               8 non-null      int64         \n",
      " 12  dayName                8 non-null      object        \n",
      " 13  date                   8 non-null      datetime64[ns]\n",
      " 14  reportTime             8 non-null      object        \n",
      "dtypes: datetime64[ns](1), float64(1), int64(5), object(8)\n",
      "memory usage: 1.1+ KB\n"
     ]
    }
   ],
   "source": [
    "# General information abouth the dataset.\n",
    "weather.info()"
   ]
  },
  {
   "cell_type": "code",
   "execution_count": null,
   "metadata": {},
   "outputs": [
    {
     "data": {
      "text/html": [
       "<div>\n",
       "<style scoped>\n",
       "    .dataframe tbody tr th:only-of-type {\n",
       "        vertical-align: middle;\n",
       "    }\n",
       "\n",
       "    .dataframe tbody tr th {\n",
       "        vertical-align: top;\n",
       "    }\n",
       "\n",
       "    .dataframe thead th {\n",
       "        text-align: right;\n",
       "    }\n",
       "</style>\n",
       "<table border=\"1\" class=\"dataframe\">\n",
       "  <thead>\n",
       "    <tr style=\"text-align: right;\">\n",
       "      <th></th>\n",
       "      <th>temperature</th>\n",
       "      <th>windSpeed</th>\n",
       "      <th>windDirection</th>\n",
       "      <th>humidity</th>\n",
       "      <th>rainfall</th>\n",
       "      <th>pressure</th>\n",
       "      <th>date</th>\n",
       "    </tr>\n",
       "  </thead>\n",
       "  <tbody>\n",
       "    <tr>\n",
       "      <th>count</th>\n",
       "      <td>8.000000</td>\n",
       "      <td>8.000000</td>\n",
       "      <td>8.000000</td>\n",
       "      <td>8.000000</td>\n",
       "      <td>8.000000</td>\n",
       "      <td>8.000000</td>\n",
       "      <td>8</td>\n",
       "    </tr>\n",
       "    <tr>\n",
       "      <th>mean</th>\n",
       "      <td>10.375000</td>\n",
       "      <td>10.250000</td>\n",
       "      <td>208.125000</td>\n",
       "      <td>97.500000</td>\n",
       "      <td>0.087500</td>\n",
       "      <td>1027.375000</td>\n",
       "      <td>2024-10-31 00:00:00</td>\n",
       "    </tr>\n",
       "    <tr>\n",
       "      <th>min</th>\n",
       "      <td>10.000000</td>\n",
       "      <td>9.000000</td>\n",
       "      <td>180.000000</td>\n",
       "      <td>97.000000</td>\n",
       "      <td>0.000000</td>\n",
       "      <td>1027.000000</td>\n",
       "      <td>2024-10-31 00:00:00</td>\n",
       "    </tr>\n",
       "    <tr>\n",
       "      <th>25%</th>\n",
       "      <td>10.000000</td>\n",
       "      <td>9.000000</td>\n",
       "      <td>180.000000</td>\n",
       "      <td>97.000000</td>\n",
       "      <td>0.000000</td>\n",
       "      <td>1027.000000</td>\n",
       "      <td>2024-10-31 00:00:00</td>\n",
       "    </tr>\n",
       "    <tr>\n",
       "      <th>50%</th>\n",
       "      <td>10.000000</td>\n",
       "      <td>10.000000</td>\n",
       "      <td>225.000000</td>\n",
       "      <td>97.500000</td>\n",
       "      <td>0.100000</td>\n",
       "      <td>1027.000000</td>\n",
       "      <td>2024-10-31 00:00:00</td>\n",
       "    </tr>\n",
       "    <tr>\n",
       "      <th>75%</th>\n",
       "      <td>11.000000</td>\n",
       "      <td>11.000000</td>\n",
       "      <td>225.000000</td>\n",
       "      <td>98.000000</td>\n",
       "      <td>0.125000</td>\n",
       "      <td>1028.000000</td>\n",
       "      <td>2024-10-31 00:00:00</td>\n",
       "    </tr>\n",
       "    <tr>\n",
       "      <th>max</th>\n",
       "      <td>11.000000</td>\n",
       "      <td>13.000000</td>\n",
       "      <td>225.000000</td>\n",
       "      <td>98.000000</td>\n",
       "      <td>0.200000</td>\n",
       "      <td>1028.000000</td>\n",
       "      <td>2024-10-31 00:00:00</td>\n",
       "    </tr>\n",
       "    <tr>\n",
       "      <th>std</th>\n",
       "      <td>0.517549</td>\n",
       "      <td>1.488048</td>\n",
       "      <td>23.289713</td>\n",
       "      <td>0.534522</td>\n",
       "      <td>0.083452</td>\n",
       "      <td>0.517549</td>\n",
       "      <td>NaN</td>\n",
       "    </tr>\n",
       "  </tbody>\n",
       "</table>\n",
       "</div>"
      ],
      "text/plain": [
       "       temperature  windSpeed  windDirection   humidity  rainfall  \\\n",
       "count     8.000000   8.000000       8.000000   8.000000  8.000000   \n",
       "mean     10.375000  10.250000     208.125000  97.500000  0.087500   \n",
       "min      10.000000   9.000000     180.000000  97.000000  0.000000   \n",
       "25%      10.000000   9.000000     180.000000  97.000000  0.000000   \n",
       "50%      10.000000  10.000000     225.000000  97.500000  0.100000   \n",
       "75%      11.000000  11.000000     225.000000  98.000000  0.125000   \n",
       "max      11.000000  13.000000     225.000000  98.000000  0.200000   \n",
       "std       0.517549   1.488048      23.289713   0.534522  0.083452   \n",
       "\n",
       "          pressure                 date  \n",
       "count     8.000000                    8  \n",
       "mean   1027.375000  2024-10-31 00:00:00  \n",
       "min    1027.000000  2024-10-31 00:00:00  \n",
       "25%    1027.000000  2024-10-31 00:00:00  \n",
       "50%    1027.000000  2024-10-31 00:00:00  \n",
       "75%    1028.000000  2024-10-31 00:00:00  \n",
       "max    1028.000000  2024-10-31 00:00:00  \n",
       "std       0.517549                  NaN  "
      ]
     },
     "execution_count": 5,
     "metadata": {},
     "output_type": "execute_result"
    }
   ],
   "source": [
    "weather.describe()"
   ]
  },
  {
   "cell_type": "code",
   "execution_count": 6,
   "metadata": {},
   "outputs": [
    {
     "data": {
      "text/plain": [
       "name                     0\n",
       "temperature              0\n",
       "symbol                   0\n",
       "weatherDescription       0\n",
       "text                     0\n",
       "windSpeed                0\n",
       "windGust                 0\n",
       "cardinalWindDirection    0\n",
       "windDirection            0\n",
       "humidity                 0\n",
       "rainfall                 0\n",
       "pressure                 0\n",
       "dayName                  0\n",
       "date                     0\n",
       "reportTime               0\n",
       "dtype: int64"
      ]
     },
     "execution_count": 6,
     "metadata": {},
     "output_type": "execute_result"
    }
   ],
   "source": [
    "# Checking if there are any missing values\n",
    "weather.isnull().sum()"
   ]
  },
  {
   "cell_type": "code",
   "execution_count": 7,
   "metadata": {},
   "outputs": [
    {
     "data": {
      "text/html": [
       "<div>\n",
       "<style scoped>\n",
       "    .dataframe tbody tr th:only-of-type {\n",
       "        vertical-align: middle;\n",
       "    }\n",
       "\n",
       "    .dataframe tbody tr th {\n",
       "        vertical-align: top;\n",
       "    }\n",
       "\n",
       "    .dataframe thead th {\n",
       "        text-align: right;\n",
       "    }\n",
       "</style>\n",
       "<table border=\"1\" class=\"dataframe\">\n",
       "  <thead>\n",
       "    <tr style=\"text-align: right;\">\n",
       "      <th></th>\n",
       "      <th>name</th>\n",
       "      <th>temperature</th>\n",
       "      <th>symbol</th>\n",
       "      <th>weatherDescription</th>\n",
       "      <th>text</th>\n",
       "      <th>windSpeed</th>\n",
       "      <th>windGust</th>\n",
       "      <th>cardinalWindDirection</th>\n",
       "      <th>windDirection</th>\n",
       "      <th>humidity</th>\n",
       "      <th>rainfall</th>\n",
       "      <th>pressure</th>\n",
       "      <th>dayName</th>\n",
       "      <th>reportTime</th>\n",
       "    </tr>\n",
       "    <tr>\n",
       "      <th>date</th>\n",
       "      <th></th>\n",
       "      <th></th>\n",
       "      <th></th>\n",
       "      <th></th>\n",
       "      <th></th>\n",
       "      <th></th>\n",
       "      <th></th>\n",
       "      <th></th>\n",
       "      <th></th>\n",
       "      <th></th>\n",
       "      <th></th>\n",
       "      <th></th>\n",
       "      <th></th>\n",
       "      <th></th>\n",
       "    </tr>\n",
       "  </thead>\n",
       "  <tbody>\n",
       "    <tr>\n",
       "      <th>2024-10-31</th>\n",
       "      <td>Athenry</td>\n",
       "      <td>11</td>\n",
       "      <td>15n</td>\n",
       "      <td>Fog / Mist</td>\n",
       "      <td>\"Mist\"</td>\n",
       "      <td>9</td>\n",
       "      <td>-</td>\n",
       "      <td>SW</td>\n",
       "      <td>225</td>\n",
       "      <td>97</td>\n",
       "      <td>0.0</td>\n",
       "      <td>1028</td>\n",
       "      <td>Thursday</td>\n",
       "      <td>00:00</td>\n",
       "    </tr>\n",
       "    <tr>\n",
       "      <th>2024-10-31</th>\n",
       "      <td>Athenry</td>\n",
       "      <td>11</td>\n",
       "      <td>15n</td>\n",
       "      <td>Fog / Mist</td>\n",
       "      <td>\"Mist\"</td>\n",
       "      <td>9</td>\n",
       "      <td>-</td>\n",
       "      <td>S</td>\n",
       "      <td>180</td>\n",
       "      <td>98</td>\n",
       "      <td>0.1</td>\n",
       "      <td>1028</td>\n",
       "      <td>Thursday</td>\n",
       "      <td>01:00</td>\n",
       "    </tr>\n",
       "    <tr>\n",
       "      <th>2024-10-31</th>\n",
       "      <td>Athenry</td>\n",
       "      <td>11</td>\n",
       "      <td>15n</td>\n",
       "      <td>Fog / Mist</td>\n",
       "      <td>\"Mist\"</td>\n",
       "      <td>9</td>\n",
       "      <td>-</td>\n",
       "      <td>S</td>\n",
       "      <td>180</td>\n",
       "      <td>97</td>\n",
       "      <td>0.0</td>\n",
       "      <td>1028</td>\n",
       "      <td>Thursday</td>\n",
       "      <td>02:00</td>\n",
       "    </tr>\n",
       "    <tr>\n",
       "      <th>2024-10-31</th>\n",
       "      <td>Athenry</td>\n",
       "      <td>10</td>\n",
       "      <td>15n</td>\n",
       "      <td>Fog / Mist</td>\n",
       "      <td>\"Mist\"</td>\n",
       "      <td>11</td>\n",
       "      <td>-</td>\n",
       "      <td>S</td>\n",
       "      <td>180</td>\n",
       "      <td>97</td>\n",
       "      <td>0.0</td>\n",
       "      <td>1027</td>\n",
       "      <td>Thursday</td>\n",
       "      <td>03:00</td>\n",
       "    </tr>\n",
       "    <tr>\n",
       "      <th>2024-10-31</th>\n",
       "      <td>Athenry</td>\n",
       "      <td>10</td>\n",
       "      <td>15n</td>\n",
       "      <td>Fog / Mist</td>\n",
       "      <td>\"Mist\"</td>\n",
       "      <td>13</td>\n",
       "      <td>-</td>\n",
       "      <td>SW</td>\n",
       "      <td>225</td>\n",
       "      <td>98</td>\n",
       "      <td>0.1</td>\n",
       "      <td>1027</td>\n",
       "      <td>Thursday</td>\n",
       "      <td>04:00</td>\n",
       "    </tr>\n",
       "  </tbody>\n",
       "</table>\n",
       "</div>"
      ],
      "text/plain": [
       "               name  temperature symbol weatherDescription    text  windSpeed  \\\n",
       "date                                                                            \n",
       "2024-10-31  Athenry           11    15n         Fog / Mist  \"Mist\"          9   \n",
       "2024-10-31  Athenry           11    15n         Fog / Mist  \"Mist\"          9   \n",
       "2024-10-31  Athenry           11    15n         Fog / Mist  \"Mist\"          9   \n",
       "2024-10-31  Athenry           10    15n         Fog / Mist  \"Mist\"         11   \n",
       "2024-10-31  Athenry           10    15n         Fog / Mist  \"Mist\"         13   \n",
       "\n",
       "           windGust cardinalWindDirection  windDirection  humidity  rainfall  \\\n",
       "date                                                                           \n",
       "2024-10-31        -                    SW            225        97       0.0   \n",
       "2024-10-31        -                     S            180        98       0.1   \n",
       "2024-10-31        -                     S            180        97       0.0   \n",
       "2024-10-31        -                     S            180        97       0.0   \n",
       "2024-10-31        -                    SW            225        98       0.1   \n",
       "\n",
       "            pressure   dayName reportTime  \n",
       "date                                       \n",
       "2024-10-31      1028  Thursday      00:00  \n",
       "2024-10-31      1028  Thursday      01:00  \n",
       "2024-10-31      1028  Thursday      02:00  \n",
       "2024-10-31      1027  Thursday      03:00  \n",
       "2024-10-31      1027  Thursday      04:00  "
      ]
     },
     "execution_count": 7,
     "metadata": {},
     "output_type": "execute_result"
    }
   ],
   "source": [
    "# Setting the 'date' column as index.\n",
    "weather.set_index('date', inplace=True)\n",
    "weather.head(5)"
   ]
  },
  {
   "cell_type": "markdown",
   "metadata": {},
   "source": [
    "**Plotting Wind Speed during the day**"
   ]
  },
  {
   "cell_type": "code",
   "execution_count": 11,
   "metadata": {},
   "outputs": [
    {
     "data": {
      "image/png": "[encoded data removed]",
      "text/plain": [
       "<Figure size 1500x600 with 1 Axes>"
      ]
     },
     "metadata": {},
     "output_type": "display_data"
    }
   ],
   "source": [
    "fig, ax = plt.subplots (figsize =(15,6), layout = \"constrained\")\n",
    "ax.plot( weather['reportTime'], weather['windSpeed'], color =\"forestgreen\", marker =\"o\", markersize = 7, linewidth= 1.5)\n",
    "ax.set_title(\"Wind Speed during the day\", color ='darkslategray', fontsize = 20, fontweight='bold')\n",
    "ax.set_xlabel(\"Time\", color ='darkslategray', fontsize = 14, fontweight='bold')\n",
    "ax.set_ylabel(\"Wind Speed\", color ='darkslategray', fontsize = 14, fontweight='bold')\n",
    "ax.grid(linestyle=\"--\", linewidth=0.4, color='darkgrey', alpha=0.5)\n",
    "\n",
    "plt.show()"
   ]
  },
  {
   "cell_type": "markdown",
   "metadata": {},
   "source": [
    "**Figure summary:** <br>The strongest wind speed was at 04:00 and reached 13 km/h."
   ]
  },
  {
   "cell_type": "markdown",
   "metadata": {},
   "source": [
    "**Plotting Temperature durring the day**"
   ]
  },
  {
   "cell_type": "code",
   "execution_count": 10,
   "metadata": {},
   "outputs": [
    {
     "data": {
      "image/png": "[encoded data removed]",
      "text/plain": [
       "<Figure size 1500x600 with 1 Axes>"
      ]
     },
     "metadata": {},
     "output_type": "display_data"
    }
   ],
   "source": [
    "fig, ax = plt.subplots (figsize =(15,6), layout = \"constrained\")\n",
    "ax.plot( weather['reportTime'], weather['temperature'], color =\"indianred\", marker =\"o\", markersize = 7, linewidth= 1.5)\n",
    "ax.set_title(\"Temperature during the day\", color ='darkblue', fontsize = 20, fontweight='bold')\n",
    "ax.set_xlabel(\"Time\", color ='darkblue', fontsize = 14, fontweight='bold')\n",
    "ax.set_ylabel(\"Temperature (°C)\", color ='darkblue', fontsize = 14, fontweight='bold')\n",
    "ax.grid(linestyle=\"--\", linewidth=0.4, color='darkgrey', alpha=0.5)\n",
    "\n",
    "plt.show()"
   ]
  },
  {
   "cell_type": "markdown",
   "metadata": {},
   "source": [
    "**Figure summary:**<br> \n",
    "The temperature from midnight to 02:00 was the highest, 11 °C.<br>\n",
    "Then it dropped to 10 °C and remained the same until 07:00am."
   ]
  },
  {
   "cell_type": "markdown",
   "metadata": {},
   "source": [
    "## End"
   ]
  }
 ],
 "metadata": {
  "kernelspec": {
   "display_name": "Python 3",
   "language": "python",
   "name": "python3"
  },
  "language_info": {
   "codemirror_mode": {
    "name": "ipython",
    "version": 3
   },
   "file_extension": ".py",
   "mimetype": "text/x-python",
   "name": "python",
   "nbconvert_exporter": "python",
   "pygments_lexer": "ipython3",
   "version": "3.12.1"
  }
 },
 "nbformat": 4,
 "nbformat_minor": 2
}
